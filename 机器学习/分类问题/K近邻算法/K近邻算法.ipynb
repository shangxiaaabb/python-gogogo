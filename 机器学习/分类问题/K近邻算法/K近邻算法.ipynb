{
 "cells": [
  {
   "attachments": {},
   "cell_type": "markdown",
   "metadata": {},
   "source": [
    "# k近邻算法---利用k近邻算法对手写字体进行识别"
   ]
  },
  {
   "attachments": {},
   "cell_type": "markdown",
   "metadata": {},
   "source": [
    "## 手搓版本"
   ]
  },
  {
   "cell_type": "code",
   "execution_count": 88,
   "metadata": {},
   "outputs": [],
   "source": [
    "import torch\n",
    "import numpy as np\n",
    "import operator"
   ]
  },
  {
   "cell_type": "code",
   "execution_count": 92,
   "metadata": {},
   "outputs": [],
   "source": [
    "def KNN(inx,dataset,labels,k,distances_way):\n",
    "    \"\"\"\n",
    "    inx:输入需要分类的数字\n",
    "    datset:输入样本训练集\n",
    "    labels:标签向量\n",
    "    k:选择最近邻的数目,其中标签数量和矩阵dataset的行数相同\n",
    "    distance:计算距离的方式\n",
    "    \"\"\"\n",
    "    #计算距离\n",
    "    datasize_h = dataset.shape[0]\n",
    "    datasize_l = dataset.shape[1]\n",
    "    inx = np.tile(inx,(datasize_h,datasize_l-1)) #将inx维度拓展成和dataset形状相同的的矩阵\n",
    "    if distances_way == str('o'):#欧几里得距离\n",
    "        diffmat = inx - dataset\n",
    "        sq_diffmat = diffmat**2\n",
    "        sq_distances = sq_diffmat.sum(axis=1)\n",
    "        distance = sq_distances**0.5\n",
    "    elif distances_way == str('man'):#曼哈顿距离\n",
    "        diffmat =  inx - dataset\n",
    "        abs_diffmat = abs(diffmat)\n",
    "        distance = abs_diffmat.sum(axis=1)\n",
    "    elif distances_way == str('min'):#闵可夫斯基距离\n",
    "        p = int(input('输入p值:'))\n",
    "        diffmat = inx - dataset\n",
    "        sq_diffmat = diffmat**2\n",
    "        sq_distances = sq_diffmat.sum(axis=1)\n",
    "        distance = sq_distances**(1/p)\n",
    "        return distance\n",
    "    distance_sort = distance.argsort() #按距离有小到大排序\n",
    "    #return distance_sort\n",
    "    #将排序得到的距离和我们的标签进行对应起来，利用哈希表\n",
    "    dic = {}\n",
    "    for i in range(k):\n",
    "        diff_label = labels[distance_sort[i]]\n",
    "        dic[diff_label] = dic.get(diff_label,0)+1\n",
    "    return dic\n",
    "    dic_sort = sorted(dic.items(), key=operator.itemgetter(1),reverse=True)\n",
    "    return dic_sort[0][0]\n"
   ]
  },
  {
   "cell_type": "code",
   "execution_count": 93,
   "metadata": {},
   "outputs": [],
   "source": [
    "group = np.array([[1.0,1.1],[1.0,1.0],[0,0],[0,0.1]])\n",
    "labels = ['A','A','B','B']\n",
    "a=KNN([1,1], group, labels, 4,'o')"
   ]
  },
  {
   "attachments": {},
   "cell_type": "markdown",
   "metadata": {},
   "source": [
    "## sklearn版本"
   ]
  },
  {
   "cell_type": "code",
   "execution_count": null,
   "metadata": {},
   "outputs": [],
   "source": []
  }
 ],
 "metadata": {
  "kernelspec": {
   "display_name": "base",
   "language": "python",
   "name": "python3"
  },
  "language_info": {
   "codemirror_mode": {
    "name": "ipython",
    "version": 3
   },
   "file_extension": ".py",
   "mimetype": "text/x-python",
   "name": "python",
   "nbconvert_exporter": "python",
   "pygments_lexer": "ipython3",
   "version": "3.9.7"
  },
  "orig_nbformat": 4
 },
 "nbformat": 4,
 "nbformat_minor": 2
}
