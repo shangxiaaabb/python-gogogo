{
 "cells": [
  {
   "attachments": {},
   "cell_type": "markdown",
   "metadata": {},
   "source": [
    "# 决策树算法"
   ]
  },
  {
   "cell_type": "code",
   "execution_count": 1,
   "metadata": {},
   "outputs": [],
   "source": [
    "#计算信息熵\n",
    "from math import *\n",
    "\n",
    "def ent(data):\n",
    "    data_length = len(data)\n",
    "    dic = {}\n",
    "    #统计个数\n",
    "    for i in data:\n",
    "        data_leable = i[-1]\n",
    "        if data_leable not in dic:\n",
    "            dic[data_leable] = 0\n",
    "        dic[data_leable] +=1\n",
    "    #return dic\n",
    "    #计算信息熵\n",
    "    ent_number = 0.0\n",
    "    for j in dic:\n",
    "        num1 = float(dic[j])/data_length\n",
    "        ent_number = ent_number - num1*log(num1,2)\n",
    "    return ent_number"
   ]
  },
  {
   "cell_type": "code",
   "execution_count": 2,
   "metadata": {},
   "outputs": [],
   "source": [
    "#划分数据集合\n",
    "def data_split(data, axis, value):\n",
    "    data_list = []\n",
    "    for i in data:\n",
    "        if i[axis] == value:\n",
    "            feat = i[:axis]\n",
    "            feat.extend(i[axis+1:])\n",
    "            data_list.append(feat)\n",
    "    return data_list\n",
    "\n",
    "#extend与append函数区别：a.extend(b):将b的值全部加到a中；a.append(b):将b列表加到a中\n",
    "# a = [1,2]\n",
    "# b = [3,4]\n",
    "# c = [3,4]\n",
    "# a.append(b)\n",
    "# c.extend(b)\n",
    "# print(a,c)\n",
    "# [1, 2, [3, 4]] [3, 4, 3, 4]"
   ]
  },
  {
   "cell_type": "code",
   "execution_count": 3,
   "metadata": {},
   "outputs": [],
   "source": [
    "#计算信增益,并且挑选最佳特征\n",
    "def gain_chose(data):\n",
    "    \"\"\"\n",
    "    data_ent:信息熵\n",
    "    feat_list:每一种标签的全部数据\n",
    "    feat_value:每一种标签下的取值\n",
    "    data_gain:信息增益\n",
    "    ent_number:计算各自列下的信息熵\n",
    "    prop:计算概率\n",
    "    best_feature:最佳划分特征\n",
    "    \"\"\"\n",
    "    data_base_length = len(data[0])-1\n",
    "    ent_base = ent(data)\n",
    "    gain_max = -1 #取任何小于0的值都可以\n",
    "    #第一个for循环得到每一列，第二个for循环则是对每一列中取值\n",
    "    for i in range(data_base_length):\n",
    "        feat_list = [a[i] for a in data]\n",
    "        feat_value = set(feat_list)\n",
    "        ent_number = 0.0\n",
    "        for j in feat_value:\n",
    "            data_split_use = data_split(data, i, j)\n",
    "            prop = len(data_split_use)/float(len(data_split_use))\n",
    "            ent_number = ent_number + prop * ent(data_split_use)\n",
    "        data_gain = ent_base - ent_number \n",
    "        if data_gain > gain_max:\n",
    "            gain_max = data_gain\n",
    "            best_feature = i\n",
    "    return best_feature"
   ]
  },
  {
   "cell_type": "code",
   "execution_count": 8,
   "metadata": {},
   "outputs": [],
   "source": [
    "#绘制决策树\n",
    "import operator\n",
    "\n",
    "def majorityCnt(classList):\n",
    "    classCount={}\n",
    "    for vote in classList:\n",
    "        if vote not in classCount.keys(): classCount[vote] = 0\n",
    "        classCount[vote] += 1\n",
    "    sortedClassCount = sorted(classCount.iteritems(), key=operator.itemgetter(1), reverse=True)\n",
    "    return sortedClassCount[0][0]\n",
    "\n",
    "def createTree(dataSet,labels):\n",
    "    \"\"\"\n",
    "    classList:存储dataset中的标签\n",
    "    bestFeatLabel:根节点\n",
    "    myTree:存储树结构\n",
    "    \"\"\"\n",
    "    classList = [example[-1] for example in dataSet]\n",
    "    # 如果全是一个特征，直接返回\n",
    "    if classList.count(classList[0]) == len(classList): \n",
    "        return classList[0]\n",
    "    # 如果数组长度为1，则\n",
    "    if len(dataSet[0]) == 1: \n",
    "        return majorityCnt(classList)\n",
    "\n",
    "    bestFeat = gain_chose(dataSet)\n",
    "    bestFeatLabel = labels[bestFeat]     # 挑选出根节点\n",
    "    myTree = {bestFeatLabel:{}}\n",
    "    del(labels[bestFeat]) # 删除以免再次选到\n",
    "\n",
    "    featValues = [example[bestFeat] for example in dataSet]\n",
    "    uniqueVals = set(featValues)\n",
    "    for value in uniqueVals:\n",
    "        subLabels = labels[:] \n",
    "        myTree[bestFeatLabel][value] = createTree(data_split(dataSet, bestFeat, value),subLabels)\n",
    "    return myTree   \n"
   ]
  },
  {
   "cell_type": "code",
   "execution_count": 10,
   "metadata": {},
   "outputs": [
    {
     "data": {
      "text/plain": [
       "{'no surfacing': {0: 'no', 1: {'flippers': {0: 'no', 1: 'yes'}}}}"
      ]
     },
     "execution_count": 10,
     "metadata": {},
     "output_type": "execute_result"
    }
   ],
   "source": [
    "data = [[1, 1, 'yes'],[1, 1, 'yes'],[1, 0, 'no'],[0, 1, 'no'],[0, 1, 'no']]\n",
    "label = ['no surfacing','flippers']\n",
    "createTree(data, label)"
   ]
  },
  {
   "cell_type": "code",
   "execution_count": null,
   "metadata": {},
   "outputs": [],
   "source": []
  },
  {
   "cell_type": "code",
   "execution_count": null,
   "metadata": {},
   "outputs": [],
   "source": []
  },
  {
   "cell_type": "code",
   "execution_count": null,
   "metadata": {},
   "outputs": [],
   "source": []
  },
  {
   "cell_type": "code",
   "execution_count": null,
   "metadata": {},
   "outputs": [],
   "source": []
  }
 ],
 "metadata": {
  "kernelspec": {
   "display_name": "base",
   "language": "python",
   "name": "python3"
  },
  "language_info": {
   "codemirror_mode": {
    "name": "ipython",
    "version": 3
   },
   "file_extension": ".py",
   "mimetype": "text/x-python",
   "name": "python",
   "nbconvert_exporter": "python",
   "pygments_lexer": "ipython3",
   "version": "3.9.7"
  },
  "orig_nbformat": 4
 },
 "nbformat": 4,
 "nbformat_minor": 2
}
