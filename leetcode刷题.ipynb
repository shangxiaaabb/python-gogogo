{
 "cells": [
  {
   "attachments": {},
   "cell_type": "markdown",
   "metadata": {},
   "source": [
    "# 算法题  "
   ]
  },
  {
   "attachments": {},
   "cell_type": "markdown",
   "metadata": {},
   "source": [
    "## 1、有效的括号  \n",
    "题目描述：给定一个只包括 '('，')'，'{'，'}'，'['，']' 的字符串 s ，判断字符串是否有效。\n",
    "\n",
    "有效字符串需满足：\n",
    "\n",
    "1、左括号必须用相同类型的右括号闭合  \n",
    "2、左括号必须以正确的顺序闭合  \n",
    "3、每个右括号都有一个对应的相同类型的左括号。\n",
    " \n",
    "\n",
    "示例 1：\n",
    "\n",
    "输入：s = \"()\"   \n",
    "输出：true  \n",
    "示例 2：  \n",
    "\n",
    "输入：s = \"()[]{}\"  \n",
    "输出：true  \n",
    "示例 3：  \n",
    "\n",
    "输入：s = \"(]\"   \n",
    "输出：false  \n",
    "\n",
    "**算法思路**：括号必须都是成算对出现，那么也就是说将字符2等分就可以看到**应该有几对括号**然后我们可以去对每队括号进行判断是否符合要求  "
   ]
  },
  {
   "cell_type": "code",
   "execution_count": 50,
   "metadata": {},
   "outputs": [],
   "source": [
    "def isValid(s):\n",
    "    nums = int(len(s)/2) #得到括号的个数\n",
    "    i = 0\n",
    "    while (int(len(s)) - i >=2):\n",
    "        if s[i:i+2][0] == '(' and s[i:i+2][1] != ')':\n",
    "            return False\n",
    "        elif s[i:i+2][0] == '[' and s[i:i+2][1] != ']':\n",
    "            return False   \n",
    "        elif s[i:i+2][0] == '{' and s[i:i+2][1] != '}':\n",
    "            return False\n",
    "        i = i+2  \n",
    "    return True"
   ]
  },
  {
   "attachments": {},
   "cell_type": "markdown",
   "metadata": {},
   "source": [
    "上述算法思路存在问题：即在使用例子‘{[]}’ 输出结果应该为True而结果却是False  \n",
    "**错因分析**：括号开口也就是说即使相邻的括号不相同但是开口方向相同依旧要继续判断，不可以直接说就是False  \n",
    "**算法纠正**：利用栈进行解决，首先依次进栈---判断开口是否相同/对应方向---同则继续进栈，否则错误"
   ]
  },
  {
   "cell_type": "code",
   "execution_count": 58,
   "metadata": {},
   "outputs": [],
   "source": [
    "def isValid(s):\n",
    "    dic = {'{': '}',  '[': ']', '(': ')', '?': '?'}\n",
    "    stack = ['?'] #添加？为了pop时不会出现空的错误\n",
    "    for c in s:\n",
    "        if c in dic: stack.append(c)\n",
    "        elif dic[stack.pop()] != c: return False \n",
    "    return len(stack) == 1"
   ]
  },
  {
   "cell_type": "code",
   "execution_count": 60,
   "metadata": {},
   "outputs": [
    {
     "data": {
      "text/plain": [
       "True"
      ]
     },
     "execution_count": 60,
     "metadata": {},
     "output_type": "execute_result"
    }
   ],
   "source": [
    "s0 = \"(]\"\n",
    "s1 = \"()[]{}\"\n",
    "s2 = \"{}()[)\"\n",
    "isValid(s1)"
   ]
  },
  {
   "attachments": {},
   "cell_type": "markdown",
   "metadata": {},
   "source": [
    "# 🗡剑指offer"
   ]
  },
  {
   "attachments": {},
   "cell_type": "markdown",
   "metadata": {},
   "source": [
    "## 🗡剑指 Offer 10- I. 斐波那契数列    \n",
    "写一个函数,输入n,求斐波那契(Fibonacci)数列的第n项(即F(N))  \n",
    "斐波那契数列的定义如下：F(0) = 0,F(1) = 1;F(N) = F(N - 1) + F(N - 2), 其中 N > 1.斐波那契数列由 0 和 1 开始，之后的斐波那契数就是由之前的两数相加而得出。\n",
    "\n",
    "示例 1：  \n",
    "输入：n = 2  \n",
    "输出：1  \n",
    "\n",
    "示例 2：  \n",
    "输入：n = 5  \n",
    "输出：5 <0,1,1,2,3,5>  \n",
    "**解题思路**：先生成斐波那契数列而后到斐波那契数列中找到符合要求的n"
   ]
  },
  {
   "cell_type": "code",
   "execution_count": 75,
   "metadata": {},
   "outputs": [],
   "source": [
    "def fib(n):\n",
    "    i= 0\n",
    "    a = [0,1]\n",
    "    while i<= n-1:\n",
    "        nums = a[i] + a[i+1]\n",
    "        a.append(nums)\n",
    "        i = i+1\n",
    "    return a[n]"
   ]
  },
  {
   "attachments": {},
   "cell_type": "markdown",
   "metadata": {},
   "source": [
    "## 🗡剑指 Offer 03. 数组中重复的数字  \n",
    "找出数组中重复的数字。  \n",
    "在一个长度为 n 的数组 nums 里的所有数字都在 0～n-1 的范围内。数组中某些数字是重复的，但不知道有几个数字重复了，也不知道每个数字重复了几次。请找出数组中任意一个重复的数字  \n",
    "\n",
    "示例 1：\n",
    "\n",
    "输入：  \n",
    "[2, 3, 1, 0, 2, 5, 3]  \n",
    "输出：2 或 3   \n",
    "\n",
    "**解题思路**：直接创建哈希表记录数字出现的次数，而后直接返回数字次数>1的数字即可"
   ]
  },
  {
   "cell_type": "code",
   "execution_count": 104,
   "metadata": {},
   "outputs": [],
   "source": [
    "def findRepeatNumber(nums):\n",
    "    dic = {}\n",
    "    a = []\n",
    "    for i in nums:\n",
    "        if i not in dic:dic[i] = 1\n",
    "        else:dic[i] = dic[i]+1\n",
    "    a= [k for k, v in dic.items() if v>1]\n",
    "    return a"
   ]
  },
  {
   "cell_type": "code",
   "execution_count": 107,
   "metadata": {},
   "outputs": [],
   "source": [
    "b= [2, 3, 1, 0, 2, 5, 3]\n",
    "a = findRepeatNumber(b)"
   ]
  },
  {
   "cell_type": "code",
   "execution_count": null,
   "metadata": {},
   "outputs": [],
   "source": []
  }
 ],
 "metadata": {
  "kernelspec": {
   "display_name": "base",
   "language": "python",
   "name": "python3"
  },
  "language_info": {
   "codemirror_mode": {
    "name": "ipython",
    "version": 3
   },
   "file_extension": ".py",
   "mimetype": "text/x-python",
   "name": "python",
   "nbconvert_exporter": "python",
   "pygments_lexer": "ipython3",
   "version": "3.9.7"
  },
  "orig_nbformat": 4,
  "vscode": {
   "interpreter": {
    "hash": "91bb753b057673435fb8d6f6a083e6c818364728098c7ae050ca3a25357dd754"
   }
  }
 },
 "nbformat": 4,
 "nbformat_minor": 2
}
