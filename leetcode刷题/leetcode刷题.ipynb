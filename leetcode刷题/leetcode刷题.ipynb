{
 "cells": [
  {
   "attachments": {},
   "cell_type": "markdown",
   "metadata": {},
   "source": [
    "# 🐕 leetcode"
   ]
  },
  {
   "attachments": {},
   "cell_type": "markdown",
   "metadata": {},
   "source": [
    "## 🐕leetcode有效的括号  \n",
    "题目描述：给定一个只包括 '('，')'，'{'，'}'，'['，']' 的字符串 s ，判断字符串是否有效。\n",
    "\n",
    "有效字符串需满足：\n",
    "\n",
    "1、左括号必须用相同类型的右括号闭合  \n",
    "2、左括号必须以正确的顺序闭合  \n",
    "3、每个右括号都有一个对应的相同类型的左括号。\n",
    " \n",
    "\n",
    "示例 1：\n",
    "\n",
    "输入：s = \"()\"   \n",
    "输出：true  \n",
    "示例 2：  \n",
    "\n",
    "输入：s = \"()[]{}\"  \n",
    "输出：true  \n",
    "示例 3：  \n",
    "\n",
    "输入：s = \"(]\"   \n",
    "输出：false  \n",
    "\n",
    "**算法思路**：括号必须都是成算对出现，那么也就是说将字符2等分就可以看到**应该有几对括号**然后我们可以去对每队括号进行判断是否符合要求  "
   ]
  },
  {
   "cell_type": "code",
   "execution_count": 50,
   "metadata": {},
   "outputs": [],
   "source": [
    "def isValid(s):\n",
    "    nums = int(len(s)/2) #得到括号的个数\n",
    "    i = 0\n",
    "    while (int(len(s)) - i >=2):\n",
    "        if s[i:i+2][0] == '(' and s[i:i+2][1] != ')':\n",
    "            return False\n",
    "        elif s[i:i+2][0] == '[' and s[i:i+2][1] != ']':\n",
    "            return False   \n",
    "        elif s[i:i+2][0] == '{' and s[i:i+2][1] != '}':\n",
    "            return False\n",
    "        i = i+2  \n",
    "    return True"
   ]
  },
  {
   "attachments": {},
   "cell_type": "markdown",
   "metadata": {},
   "source": [
    "上述算法思路存在问题：即在使用例子‘{[]}’ 输出结果应该为True而结果却是False  \n",
    "**错因分析**：括号开口也就是说即使相邻的括号不相同但是开口方向相同依旧要继续判断，不可以直接说就是False  \n",
    "**算法纠正**：利用栈进行解决，首先依次进栈---判断开口是否相同/对应方向---同则继续进栈，否则错误"
   ]
  },
  {
   "cell_type": "code",
   "execution_count": 58,
   "metadata": {},
   "outputs": [],
   "source": [
    "def isValid(s):\n",
    "    dic = {'{': '}',  '[': ']', '(': ')', '?': '?'}\n",
    "    stack = ['?'] #添加？为了pop时不会出现空的错误\n",
    "    for c in s:\n",
    "        if c in dic: stack.append(c)\n",
    "        elif dic[stack.pop()] != c: return False \n",
    "    return len(stack) == 1"
   ]
  },
  {
   "cell_type": "code",
   "execution_count": 60,
   "metadata": {},
   "outputs": [
    {
     "data": {
      "text/plain": [
       "True"
      ]
     },
     "execution_count": 60,
     "metadata": {},
     "output_type": "execute_result"
    }
   ],
   "source": [
    "s0 = \"(]\"\n",
    "s1 = \"()[]{}\"\n",
    "s2 = \"{}()[)\"\n",
    "isValid(s1)"
   ]
  },
  {
   "attachments": {},
   "cell_type": "markdown",
   "metadata": {},
   "source": [
    "## 🐕LCS02 完成一半题目  \n",
    "有 N 位扣友参加了微软与力扣举办了「以扣会友」线下活动。主办方提供了 2*N 道题目，整型数组questions中每个数字对应了每道题目所涉及的知识点类型。若每位扣友选择不同的一题,请返回被选的 N 道题目至少包含多少种知识点类型。\n",
    "\n",
    "示例 1： \n",
    "\n",
    "输入：questions = [2,1,6,2]\n",
    "\n",
    "输出：1\n",
    "\n",
    "解释：有2位扣友在4道题目中选择2题。可选择完成知识点类型为2的题目时，此时仅一种知识点类型因此至少包含1种知识点类型。\n",
    "\n",
    "示例 2：\n",
    "\n",
    "输入：questions = [1,5,1,3,4,5,2,5,3,3,8,6]\n",
    "\n",
    "输出：2\n",
    "\n",
    "解释：有 6 位扣友在 12 道题目中选择题目，需要选择6题。选择完成知识点类型为3、5的题目,因此至少包含2种知识点类型  \n",
    "**题目思路**：给定一个数组，统计题目数量最多的题目，然后看看这些数量能不能满足人数要求，如若不可以那么再加入一个题目  "
   ]
  },
  {
   "cell_type": "code",
   "execution_count": 124,
   "metadata": {},
   "outputs": [],
   "source": [
    "def halfQuestions(questions):\n",
    "    dict = {}\n",
    "    people_num = len(questions)/2\n",
    "    #统计好题目数量\n",
    "    for i in questions:\n",
    "        if i not in dict:\n",
    "            dict[i] = 1\n",
    "        else:\n",
    "            dict[i] = dict[i] + 1\n",
    "    #将题目数量对每个人进行分配，并且计算好题目的类型\n",
    "    p = 0 #初始类型为0\n",
    "    j = 0\n",
    "    map_order = sorted(dict.items(), key=lambda x: x[1], reverse=True)  #将字典进行排序\n",
    "    # return map_order\n",
    "    while people_num > 0:\n",
    "        if map_order[j][1] <= people_num:\n",
    "            people_num = people_num - map_order[j][1]\n",
    "            j = j+1\n",
    "            p = p+1\n",
    "        else:\n",
    "            people_num = 0\n",
    "            p = p +1\n",
    "            break\n",
    "    return p\n",
    "    # return max(dict.values())\n"
   ]
  },
  {
   "cell_type": "code",
   "execution_count": 125,
   "metadata": {},
   "outputs": [
    {
     "data": {
      "text/plain": [
       "3"
      ]
     },
     "execution_count": 125,
     "metadata": {},
     "output_type": "execute_result"
    }
   ],
   "source": [
    "questions1 = [1,5,1,3,4,5,2,5,3,3,8,6]\n",
    "questions2 = [8,11,6,10]\n",
    "questions3 = [13,8,3,7,5,6,11,12,3,6,6,11]\n",
    "halfQuestions(questions3)"
   ]
  },
  {
   "attachments": {},
   "cell_type": "markdown",
   "metadata": {},
   "source": [
    "## 🐕 27. 移除元素 \n",
    "给你一个数组 nums 和一个值 val，你需要原地移除所有数值等于val的元素，并返回移除后数组的新长度，不要使用额外的数组空间，你必须仅使用 O(1) 额外空间并原地修改输入数组。元素的顺序可以改变。你不需要考虑数组中超出新长度后面的元素。\n",
    "\n",
    "示例 1：  \n",
    "\n",
    "输入：nums = [3,2,2,3], val = 3  \n",
    "输出：2, nums = [2,2]  \n",
    "解释：函数应该返回新的长度 2, 并且 nums 中的前两个元素均为 2。你不需要考虑数组中超出新长度后面的元素。例如，函数返回的新长度为 2 ，而 nums = [2,2,3,3] 或 nums = [2,2,0,0]，也会被视作正确答案。  \n",
    "示例 2：  \n",
    "\n",
    "输入：nums = [0,1,2,2,3,0,4,2], val = 2  \n",
    "输出：5, nums = [0,1,4,0,3]  \n",
    "解释：函数应该返回新的长度 5, 并且 nums 中的前五个元素为 0, 1, 3, 0, 4。注意这五个元素可为任意顺序。你不需要考虑数组中超出新长度后面的元素。   \n",
    "**思路**：建立两个指针，一个指向数组头，一个指向尾。遍历数组在遇到对于目的值的时候就直接将目的值丢到数组尾部，而后切片即可"
   ]
  },
  {
   "cell_type": "code",
   "execution_count": 22,
   "metadata": {},
   "outputs": [],
   "source": [
    "def removeElement(nums, val):\n",
    "    i, j = 0, len(nums)-1\n",
    "    if nums == None or len(nums) == 0: return 0\n",
    "    while i < j:\n",
    "        if i<j and nums[i] !=val:\n",
    "            i = i+1\n",
    "        elif i<j and nums[j] == val:\n",
    "            j = j-1\n",
    "        nums[i], nums[j] = nums[j], nums[i]\n",
    "    return j, nums[0:j]"
   ]
  },
  {
   "cell_type": "code",
   "execution_count": 23,
   "metadata": {},
   "outputs": [
    {
     "data": {
      "text/plain": [
       "(5, [0, 1, 4, 0, 3])"
      ]
     },
     "execution_count": 23,
     "metadata": {},
     "output_type": "execute_result"
    }
   ],
   "source": [
    "nums = [0,1,2,2,3,0,4,2]\n",
    "val = 2\n",
    "removeElement(nums, val)"
   ]
  },
  {
   "attachments": {},
   "cell_type": "markdown",
   "metadata": {},
   "source": [
    "## 🐕28. 找出字符串中第一个匹配项的下标  \n",
    "给你两个字符串 haystack 和 needle，请你在 haystack 字符串中找出needle字符串的第一个匹配项的下标（下标从 0 开始）。如果 needle 不是 haystack 的一部分，则返回 -1 。  \n",
    "示例 1：  \n",
    "\n",
    "输入：haystack = \"sadbutsad\", needle = \"sad\"  \n",
    "输出：0  \n",
    "解释：\"sad\" 在下标 0 和 6 处匹配。  \n",
    "第一个匹配项的下标是 0 ，所以返回 0 。  \n",
    "示例 2：  \n",
    "\n",
    "输入：haystack = \"leetcode\", needle = \"leeto\"  \n",
    "输出：-1  \n",
    "解释：\"leeto\" 没有在 \"leetcode\" 中出现，所以返回-1。  \n",
    "**解题思路**：直接暴力切片查找即可"
   ]
  },
  {
   "cell_type": "code",
   "execution_count": 52,
   "metadata": {},
   "outputs": [],
   "source": [
    "def strStr(haystack, needle):\n",
    "    a, b = len(haystack), len(needle)\n",
    "    for i in range(0, a-b+1):\n",
    "        if haystack[i:i+b] == needle:\n",
    "            return i\n",
    "    return -1"
   ]
  },
  {
   "cell_type": "code",
   "execution_count": 53,
   "metadata": {},
   "outputs": [
    {
     "data": {
      "text/plain": [
       "0"
      ]
     },
     "execution_count": 53,
     "metadata": {},
     "output_type": "execute_result"
    }
   ],
   "source": [
    "strStr('sadbutsad', 'sad')\n",
    "#strStr('leetcode', 'leeto')"
   ]
  },
  {
   "cell_type": "code",
   "execution_count": null,
   "metadata": {},
   "outputs": [],
   "source": []
  },
  {
   "cell_type": "code",
   "execution_count": null,
   "metadata": {},
   "outputs": [],
   "source": []
  },
  {
   "cell_type": "code",
   "execution_count": null,
   "metadata": {},
   "outputs": [],
   "source": []
  },
  {
   "attachments": {},
   "cell_type": "markdown",
   "metadata": {},
   "source": [
    "# 🗡剑指offer"
   ]
  },
  {
   "attachments": {},
   "cell_type": "markdown",
   "metadata": {},
   "source": [
    "## 🗡剑指 Offer 10- I. 斐波那契数列    \n",
    "写一个函数,输入n,求斐波那契(Fibonacci)数列的第n项(即F(N))  \n",
    "斐波那契数列的定义如下：F(0) = 0,F(1) = 1;F(N) = F(N - 1) + F(N - 2), 其中 N > 1.斐波那契数列由 0 和 1 开始，之后的斐波那契数就是由之前的两数相加而得出。\n",
    "\n",
    "示例 1：  \n",
    "输入：n = 2  \n",
    "输出：1  \n",
    "\n",
    "示例 2：  \n",
    "输入：n = 5  \n",
    "输出：5 <0,1,1,2,3,5>  \n",
    "**解题思路**：先生成斐波那契数列而后到斐波那契数列中找到符合要求的n"
   ]
  },
  {
   "cell_type": "code",
   "execution_count": 75,
   "metadata": {},
   "outputs": [],
   "source": [
    "def fib(n):\n",
    "    i= 0\n",
    "    a = [0,1]\n",
    "    while i<= n-1:\n",
    "        nums = a[i] + a[i+1]\n",
    "        a.append(nums)\n",
    "        i = i+1\n",
    "    return a[n]"
   ]
  },
  {
   "attachments": {},
   "cell_type": "markdown",
   "metadata": {},
   "source": [
    "## 🗡剑指 Offer 03. 数组中重复的数字  \n",
    "找出数组中重复的数字。  \n",
    "在一个长度为 n 的数组 nums 里的所有数字都在 0～n-1 的范围内。数组中某些数字是重复的，但不知道有几个数字重复了，也不知道每个数字重复了几次。请找出数组中任意一个重复的数字  \n",
    "\n",
    "示例 1：\n",
    "\n",
    "输入：  \n",
    "[2, 3, 1, 0, 2, 5, 3]  \n",
    "输出：2 或 3   \n",
    "\n",
    "**解题思路**：直接创建哈希表记录数字出现的次数，而后直接返回数字次数>1的数字即可"
   ]
  },
  {
   "cell_type": "code",
   "execution_count": 104,
   "metadata": {},
   "outputs": [],
   "source": [
    "def findRepeatNumber(nums):\n",
    "    dic = {}\n",
    "    a = []\n",
    "    for i in nums:\n",
    "        if i not in dic:dic[i] = 1\n",
    "        else:dic[i] = dic[i]+1\n",
    "    a= [k for k, v in dic.items() if v>1]\n",
    "    return a"
   ]
  },
  {
   "cell_type": "code",
   "execution_count": 107,
   "metadata": {},
   "outputs": [],
   "source": [
    "b= [2, 3, 1, 0, 2, 5, 3]\n",
    "a = findRepeatNumber(b)"
   ]
  },
  {
   "attachments": {},
   "cell_type": "markdown",
   "metadata": {},
   "source": [
    "## 🗡剑指 Offer 04. 二维数组中的查找  \n",
    "在一个n*m的二维数组中,每一行都按照从**左到右非递减的顺序排序**,每一列都按照从**上到下非递减的顺序排序**.请完成一个高效的函数,输入这样的一个二维数组和一个整数，判断数组中是否含有该整数。\n",
    "\n",
    "示例:\n",
    "\n",
    "现有矩阵 matrix 如下：\n",
    "\n",
    "[  \n",
    "  [1,   4,  7, 11, 15],  \n",
    "  [2,   5,  8, 12, 19],  \n",
    "  [3,   6,  9, 16, 22],  \n",
    "  [10, 13, 14, 17, 24],  \n",
    "  [18, 21, 23, 26, 30]  \n",
    "]  \n",
    "\n",
    "给定 target = 5，返回 true。\n",
    "\n",
    "给定 target = 20，返回 false。"
   ]
  },
  {
   "attachments": {},
   "cell_type": "markdown",
   "metadata": {},
   "source": [
    "### 解法一：暴力查找法"
   ]
  },
  {
   "cell_type": "code",
   "execution_count": 3,
   "metadata": {},
   "outputs": [],
   "source": [
    "def findNumberIn2DArray1(matrix, target):\n",
    "    for i in range(len(matrix)):\n",
    "        for j in range(len(matrix[0])):\n",
    "            if matrix[i][j] == target:return True\n",
    "    return False"
   ]
  },
  {
   "attachments": {},
   "cell_type": "markdown",
   "metadata": {},
   "source": [
    "### 解法二----->利用数组有顺序的特点进行解决  \n",
    "将数组旋转从左下角第一个元素开始进行查找"
   ]
  },
  {
   "cell_type": "code",
   "execution_count": 6,
   "metadata": {},
   "outputs": [],
   "source": [
    "def findNumberIn2DArray2(matrix, target):\n",
    "    i, j = len(matrix)-1, 0\n",
    "    while i>0 or j< len(matrix[0]):\n",
    "        if matrix[i][j] < target: j = j+1\n",
    "        elif matrix[i][j] > target: i = i-1\n",
    "        elif matrix[i][j] == target: return True\n",
    "    return False"
   ]
  },
  {
   "cell_type": "code",
   "execution_count": 7,
   "metadata": {},
   "outputs": [
    {
     "data": {
      "text/plain": [
       "True"
      ]
     },
     "execution_count": 7,
     "metadata": {},
     "output_type": "execute_result"
    }
   ],
   "source": [
    "matrix=[  \n",
    "  [1,   4,  7, 11, 15],  \n",
    "  [2,   5,  8, 12, 19],  \n",
    "  [3,   6,  9, 16, 22],  \n",
    "  [10, 13, 14, 17, 24],  \n",
    "  [18, 21, 23, 26, 30]  \n",
    "]\n",
    "findNumberIn2DArray1(matrix, 20)\n",
    "findNumberIn2DArray2(matrix, 30)"
   ]
  },
  {
   "attachments": {},
   "cell_type": "markdown",
   "metadata": {},
   "source": [
    "## 🗡剑指 Offer 10- II. 青蛙跳台阶问题  \n",
    "一只青蛙一次可以跳上1级台阶，也可以跳上2级台阶。求该青蛙跳上一个n级的台阶总共有多少种跳法   \n",
    ">答案需要取模 1e9+7（1000000007），如计算初始结果为：1000000008，请返回 1。\n",
    "\n",
    "示例 1：  \n",
    "输入：n = 2   \n",
    "输出：2  \n",
    "\n",
    "示例 2：  \n",
    "输入：n = 7  \n",
    "输出：21  \n",
    "\n",
    "示例 3：  \n",
    "输入：n = 0  \n",
    "输出：1  \n",
    "**解题思路**：  \n",
    "**思路一**：类似与计算$z=x+2y$计算符合要求的x,y的个数  \n",
    "---->错误：他不一定按照先走1而后2的次序，它可以**无序跳跃**也就是说1 2随便次序只要满足等于n即可  \n",
    "**思路二**  "
   ]
  },
  {
   "cell_type": "code",
   "execution_count": 51,
   "metadata": {},
   "outputs": [],
   "source": [
    "def numWays1(n):\n",
    "    number = 1\n",
    "    for i in range(n+1):\n",
    "        for j in range(n//2):\n",
    "            if i+2*j == n:\n",
    "                number = number + 1\n",
    "    return number% 1000000007\n",
    "\n",
    "def numWays2(n):\n",
    "    if n== 0 or n == 1:\n",
    "        return 1\n",
    "    else:\n",
    "        numWays2(n-1) + numWays2(n-2)"
   ]
  },
  {
   "attachments": {},
   "cell_type": "markdown",
   "metadata": {},
   "source": [
    "## 🗡剑指 Offer 12. 矩阵中的路径  \n",
    "给定一个mxn二维字符网格board和一个字符串单词word.如果 word 存在于网格中,返回true否则,返回false\n",
    "单词必须按照字母顺序，**通过相邻的单元格内的字母构成**，其中“相邻”单元格是那些水平相邻或垂直相邻的单元格。同一个单元格内的字母不允许被重复使用。\n",
    "\n",
    "例如,在下面的3×4的矩阵中包含单词 \"ABCCED\"(单词中的字母已标出)\n",
    "\n",
    "![image.png](https://assets.leetcode.com/uploads/2020/11/04/word2.jpg)\n",
    "\n",
    "**解题思路**：遍历算法找到符合要求的字母"
   ]
  },
  {
   "cell_type": "code",
   "execution_count": null,
   "metadata": {},
   "outputs": [],
   "source": [
    "def exist(board, word):\n",
    "    store[] #存储已经访问的点的位置\n",
    "    i, j = 0, 0\n",
    "    k = 0\n",
    "    while len(stack) == len(word):\n",
    "        "
   ]
  },
  {
   "cell_type": "code",
   "execution_count": 2,
   "metadata": {},
   "outputs": [],
   "source": [
    "board = [[\"A\",\"B\",\"C\",\"E\"],[\"S\",\"F\",\"C\",\"S\"],[\"A\",\"D\",\"E\",\"E\"]]\n",
    "word = \"ABCCED\""
   ]
  },
  {
   "cell_type": "code",
   "execution_count": 4,
   "metadata": {},
   "outputs": [
    {
     "data": {
      "text/plain": [
       "6"
      ]
     },
     "execution_count": 4,
     "metadata": {},
     "output_type": "execute_result"
    }
   ],
   "source": [
    "len(word)"
   ]
  },
  {
   "attachments": {},
   "cell_type": "markdown",
   "metadata": {},
   "source": [
    "## 🗡剑指 Offer 63. 股票的最大利润  \n",
    "假设把某股票的价格按照时间先后顺序存储在数组中，请问买卖该股票一次可能获得的最大利润是多少？\n",
    "\n",
    "示例 1:  \n",
    "\n",
    "输入: [7,1,5,3,6,4]  \n",
    "输出: 5  \n",
    "解释: 在第 2 天(股票价格=1)的时候买入,在第5天(股票价格 = 6)的时候卖出,最大利润=6-1=5注意利润不能是 7-1 = 6, 因为卖出价格需要大于买入价格。  \n",
    "\n",
    "示例 2:  \n",
    "\n",
    "输入: [7,6,4,3,1]  \n",
    "输出: 0  \n",
    "解释: 在这种情况下,没有交易完成,所以最大利润为0。  \n",
    "\n",
    "**解法**：直接计算第i天之后的每一天与第i天的价格差就可以得利润  \n",
    "--->缺点：时间复杂度太高了，如果prices长度过长，算法运行的时间效率也就越低  \n",
    "**改进措施**：由于两次循环时间过长，而且简单分析很容易知道：如果**第i天**的价格高于**第i-1天**那么我们就没有必要再去计算**第i天**利润，因为肯定低于**第i-天**，所以我们选择的改进措施就是直接比较：相邻两天价格差和maxp的大小，而后再去比较相邻两条价格高低保留低价"
   ]
  },
  {
   "cell_type": "code",
   "execution_count": 10,
   "metadata": {},
   "outputs": [],
   "source": [
    "def maxProfit1(prices):\n",
    "    maxp = 0\n",
    "    for i in range(len(prices)):\n",
    "        for j in range(i, len(prices)):\n",
    "            if prices[j] - prices[i] > maxp:\n",
    "                maxp = prices[j] - prices[i]\n",
    "    return maxp"
   ]
  },
  {
   "cell_type": "code",
   "execution_count": 11,
   "metadata": {},
   "outputs": [
    {
     "data": {
      "text/plain": [
       "5"
      ]
     },
     "execution_count": 11,
     "metadata": {},
     "output_type": "execute_result"
    }
   ],
   "source": [
    "maxProfit1([7,1,5,3,6,4])"
   ]
  },
  {
   "cell_type": "code",
   "execution_count": 39,
   "metadata": {},
   "outputs": [],
   "source": [
    "def maxProfit2(prices):\n",
    "    maxp = 0\n",
    "    for i in range(1,len(prices)):\n",
    "        maxp = max(maxp, prices[i] - prices[i-1])\n",
    "        if prices[i] > prices[i-1]: \n",
    "            prices[i] = prices[i-1]\n",
    "    return maxp"
   ]
  },
  {
   "cell_type": "code",
   "execution_count": 40,
   "metadata": {},
   "outputs": [
    {
     "data": {
      "text/plain": [
       "5"
      ]
     },
     "execution_count": 40,
     "metadata": {},
     "output_type": "execute_result"
    }
   ],
   "source": [
    "maxProfit2([7,1,5,3,6,4])"
   ]
  },
  {
   "attachments": {},
   "cell_type": "markdown",
   "metadata": {},
   "source": [
    "## 🗡剑指 Offer 42. 连续子数组的最大和  \n",
    "输入一个整型数组，数组中的一个或连续多个整数组成一个子数组。求所有子数组的和的最大值  \n",
    "要求：**时间复杂度为O(n)**\n",
    " \n",
    "示例1:  \n",
    "输入: nums = [-2,1,-3,4,-1,2,1,-5,4]  \n",
    "输出: 6  \n",
    "解释: 连续子数组[4,-1,2,1]的和最大,为6  \n",
    "**解题思路**：直接计算i项与i-1项与0的最大值，这样我们就可以保证到i项时，就已经是(i项)最大值了"
   ]
  },
  {
   "cell_type": "code",
   "execution_count": 49,
   "metadata": {},
   "outputs": [],
   "source": [
    "def maxSubArray0(nums):\n",
    "    for i in range(1, len(nums)):\n",
    "        nums[i] = nums[i] + max(nums[i-1], 0)\n",
    "    return max(nums)"
   ]
  },
  {
   "cell_type": "code",
   "execution_count": 51,
   "metadata": {},
   "outputs": [
    {
     "data": {
      "text/plain": [
       "6"
      ]
     },
     "execution_count": 51,
     "metadata": {},
     "output_type": "execute_result"
    }
   ],
   "source": [
    "nums = [-2,1,-3,4,-1,2,1,-5,4]\n",
    "maxSubArray0(nums)"
   ]
  },
  {
   "attachments": {
    "image.png": {
     "image/png": "[encoded data removed]"
    }
   },
   "cell_type": "markdown",
   "metadata": {},
   "source": [
    "## 🗡剑指 Offer 62. 圆圈中最后剩下的数  \n",
    "0,1,···,n-1这n个数字排成一个圆圈，从数字0开始，每次从这个圆圈里删除第m个数字(删除后从下一个数字开始计数),求出这个圆圈里剩下的最后一个数字  \n",
    "例如，0、1、2、3、4这5个数字组成一个圆圈，从数字0开始每次删除第3个数字，则删除的前4个数字依次是2、0、4、1，因此最后剩下的数字是3  \n",
    "\n",
    "\n",
    "示例 1：  \n",
    "\n",
    "输入: n = 5, m = 3  \n",
    "输出: 3  \n",
    "**算法步骤**：  \n",
    "![无](attachment:image.png)  \n",
    "第一步：0,1,2,3,4---->0,1,3,4(从数字2的位置再数第3个数字)  \n",
    "第二步：0,1,3,4---->1,3,4(从数字0的位置再数第3个数字)  \n",
    "第三步：1,3,4---->1,3(从数字4的位置再数第3个数字)   \n",
    "第四步：1,3---->3(从数字1的位置再数第3个数字)    \n",
    "![png](https://pic.leetcode-cn.com/9dda886441be8d249abb76e35f53f29fd6e780718d4aca2ee3c78f947fb76e75-image.png)"
   ]
  },
  {
   "cell_type": "code",
   "execution_count": 69,
   "metadata": {},
   "outputs": [],
   "source": [
    "def lastRemaining(n, m):\n",
    "    x = 0\n",
    "    for i in range(2, n + 1):\n",
    "        x = (x + m) % i\n",
    "    return x\n"
   ]
  },
  {
   "cell_type": "code",
   "execution_count": 70,
   "metadata": {},
   "outputs": [
    {
     "data": {
      "text/plain": [
       "3"
      ]
     },
     "execution_count": 70,
     "metadata": {},
     "output_type": "execute_result"
    }
   ],
   "source": [
    "lastRemaining(5,3)"
   ]
  },
  {
   "attachments": {},
   "cell_type": "markdown",
   "metadata": {},
   "source": [
    "## 🗡 剑指 Offer 21. 调整数组顺序使奇数位于偶数前面  \n",
    "输入一个整数数组，实现一个函数来调整该数组中数字的顺序，使得所有奇数在数组的前半部分，所有偶数在数组的后半部分。  \n",
    "示例：  \n",
    " \n",
    "输入：nums = [1,2,3,4]  \n",
    "输出：[1,3,2,4]   \n",
    "注：[3,1,2,4] 也是正确的答案之一。  "
   ]
  },
  {
   "cell_type": "code",
   "execution_count": 6,
   "metadata": {},
   "outputs": [],
   "source": [
    "def exchange(nums):\n",
    "    e = len(nums)-1\n",
    "    s = 0\n",
    "    while s<e:\n",
    "        while s<e and nums[e]%2==0:\n",
    "            e = e-1\n",
    "        while s<e and nums[s]%2!=0:\n",
    "            s = s+1\n",
    "        nums[s], nums[e] = nums[e], nums[s]\n",
    "    return nums\n"
   ]
  },
  {
   "cell_type": "code",
   "execution_count": 7,
   "metadata": {},
   "outputs": [
    {
     "data": {
      "text/plain": [
       "[1, 3, 2, 4]"
      ]
     },
     "execution_count": 7,
     "metadata": {},
     "output_type": "execute_result"
    }
   ],
   "source": [
    "nums = [1,2,3,4]\n",
    "exchange(nums)"
   ]
  },
  {
   "attachments": {},
   "cell_type": "markdown",
   "metadata": {},
   "source": [
    "## 🗡剑指 Offer 57. 和为s的两个数字  \n",
    "输入一个**递增排序**的数组和一个数字s，在数组中查找两个数，使得它们的和正好是s。如果有多对数字的和等于s，则输出任意一对即可。  \n",
    "示例 1：  \n",
    "输入：nums = [2,7,11,15], target = 9  \n",
    "输出：[2,7] 或者 [7,2]  \n",
    "示例 2：  \n",
    "输入：nums = [10,26,30,31,47,60], target = 40  \n",
    "输出：[10,30] 或者 [30,10]  \n",
    "\n",
    "**解法一**：暴力查找法---->时间效率太低了，太浪费时间了  \n",
    "**解法二**：建立首尾双指针，由于数组是递增排序的数组，首尾所指定的数字相加，如果数字小于目标数字说明首指针指定数字太小了，反之同理"
   ]
  },
  {
   "attachments": {},
   "cell_type": "markdown",
   "metadata": {},
   "source": [
    "### 暴力查找法"
   ]
  },
  {
   "cell_type": "code",
   "execution_count": 21,
   "metadata": {},
   "outputs": [],
   "source": [
    "def twoSum(nums, target):\n",
    "    length = len(nums)\n",
    "    a= []\n",
    "    for i in range(length):\n",
    "        for j in range(length):\n",
    "            if nums[i] + nums[j] == target:\n",
    "                a.append(nums[i])\n",
    "                a.append(nums[j])\n",
    "                return a\n"
   ]
  },
  {
   "cell_type": "code",
   "execution_count": 22,
   "metadata": {},
   "outputs": [],
   "source": [
    "nums = [10,26,30,31,47,60]\n",
    "target = 40  "
   ]
  },
  {
   "cell_type": "code",
   "execution_count": 23,
   "metadata": {},
   "outputs": [
    {
     "data": {
      "text/plain": [
       "[10, 30]"
      ]
     },
     "execution_count": 23,
     "metadata": {},
     "output_type": "execute_result"
    }
   ],
   "source": [
    "twoSum(nums, target)"
   ]
  },
  {
   "attachments": {},
   "cell_type": "markdown",
   "metadata": {},
   "source": [
    "### 双指针"
   ]
  },
  {
   "cell_type": "code",
   "execution_count": 27,
   "metadata": {},
   "outputs": [],
   "source": [
    "def twoSum(nums, target):\n",
    "    e, s = len(nums)-1, 0\n",
    "    while s<=e:\n",
    "        if nums[e] + nums[s] >target:\n",
    "            e = e-1\n",
    "        elif nums[e] + nums[s] <target:\n",
    "            s = s+1\n",
    "        else:\n",
    "            return nums[e], nums[s]\n",
    "\n",
    "    "
   ]
  },
  {
   "cell_type": "code",
   "execution_count": 28,
   "metadata": {},
   "outputs": [
    {
     "data": {
      "text/plain": [
       "(30, 10)"
      ]
     },
     "execution_count": 28,
     "metadata": {},
     "output_type": "execute_result"
    }
   ],
   "source": [
    "nums =[10,26,30,31,47,60]\n",
    "target = 40\n",
    "twoSum(nums, target)"
   ]
  },
  {
   "attachments": {},
   "cell_type": "markdown",
   "metadata": {},
   "source": [
    "## 🗡剑指 Offer 47. 礼物的最大价值  \n",
    "在一个m*n的棋盘的每一格都放有一个礼物，每个礼物都有一定的价值(价值大于0)。你可以从棋盘的左上角开始拿格子里的礼物，并每次向右或者向下移动一格、直到到达棋盘的右下角。给定一个棋盘及其上面的礼物的价值，请计算你最多能拿到多少价值的礼物？  \n",
    "示例 1:  \n",
    "输入:   \n",
    "[  \n",
    "  [1,3,1],  \n",
    "  [1,5,1],  \n",
    "  [4,2,1]  \n",
    "]  \n",
    "输出: 12  \n",
    "解释: 路径 1→3→5→2→1 可以拿到最多价值的礼物  "
   ]
  },
  {
   "cell_type": "code",
   "execution_count": 14,
   "metadata": {},
   "outputs": [],
   "source": [
    "def maxValue(grid):\n",
    "    for i in range(len(grid)):\n",
    "        for j in range(len(grid[0])):\n",
    "            if i==0 and j==0: continue\n",
    "            if i == 0: grid[i][j] += grid[i][j - 1]\n",
    "            elif j==0:grid[i][j] += grid[i-1][j]\n",
    "            else:grid[i][j] += max(grid[i][j-1], grid[i-1][j])\n",
    "    return grid[-1][-1]"
   ]
  },
  {
   "cell_type": "code",
   "execution_count": 15,
   "metadata": {},
   "outputs": [
    {
     "data": {
      "text/plain": [
       "13"
      ]
     },
     "execution_count": 15,
     "metadata": {},
     "output_type": "execute_result"
    }
   ],
   "source": [
    "grid = [[1,3,1],[1,5,1], [4,2,1]] \n",
    "grid2 = [[1,2],[5,6],[1,1]]\n",
    "maxValue(grid2)"
   ]
  },
  {
   "cell_type": "code",
   "execution_count": null,
   "metadata": {},
   "outputs": [],
   "source": []
  }
 ],
 "metadata": {
  "kernelspec": {
   "display_name": "base",
   "language": "python",
   "name": "python3"
  },
  "language_info": {
   "codemirror_mode": {
    "name": "ipython",
    "version": 3
   },
   "file_extension": ".py",
   "mimetype": "text/x-python",
   "name": "python",
   "nbconvert_exporter": "python",
   "pygments_lexer": "ipython3",
   "version": "3.9.7"
  },
  "orig_nbformat": 4,
  "vscode": {
   "interpreter": {
    "hash": "91bb753b057673435fb8d6f6a083e6c818364728098c7ae050ca3a25357dd754"
   }
  }
 },
 "nbformat": 4,
 "nbformat_minor": 2
}
